{
 "cells": [
  {
   "cell_type": "code",
   "execution_count": 1,
   "id": "2d348736",
   "metadata": {},
   "outputs": [],
   "source": [
    "import warnings\n",
    "warnings.filterwarnings('ignore')\n",
    "import os\n",
    "import pandas as pd\n",
    "import numpy as np\n",
    "import math\n",
    "import datetime as dt\n",
    "import matplotlib.pyplot as plt\n",
    "\n",
    "from sklearn.metrics import mean_squared_error, mean_absolute_error, explained_variance_score, r2_score \n",
    "from sklearn.metrics import mean_poisson_deviance, mean_gamma_deviance, accuracy_score\n",
    "from sklearn.preprocessing import MinMaxScaler\n",
    "\n",
    "from itertools import product\n",
    "import statsmodels.api as sm\n",
    "\n",
    "import tensorflow as tf\n",
    "\n",
    "from tensorflow.keras.models import Sequential\n",
    "from tensorflow.keras.layers import Dense, Dropout\n",
    "from tensorflow.keras.layers import LSTM\n",
    "\n",
    "from itertools import cycle\n",
    "import plotly.offline as py\n",
    "import plotly.graph_objects as go\n",
    "import plotly.express as px\n",
    "from plotly.subplots import make_subplots\n"
   ]
  },
  {
   "cell_type": "code",
   "execution_count": 2,
   "id": "372f2d36",
   "metadata": {},
   "outputs": [
    {
     "data": {
      "text/html": [
       "<div>\n",
       "<style scoped>\n",
       "    .dataframe tbody tr th:only-of-type {\n",
       "        vertical-align: middle;\n",
       "    }\n",
       "\n",
       "    .dataframe tbody tr th {\n",
       "        vertical-align: top;\n",
       "    }\n",
       "\n",
       "    .dataframe thead th {\n",
       "        text-align: right;\n",
       "    }\n",
       "</style>\n",
       "<table border=\"1\" class=\"dataframe\">\n",
       "  <thead>\n",
       "    <tr style=\"text-align: right;\">\n",
       "      <th></th>\n",
       "      <th>time</th>\n",
       "      <th>low</th>\n",
       "      <th>high</th>\n",
       "      <th>open</th>\n",
       "      <th>close</th>\n",
       "      <th>volume</th>\n",
       "    </tr>\n",
       "  </thead>\n",
       "  <tbody>\n",
       "    <tr>\n",
       "      <th>0</th>\n",
       "      <td>2021-10-30 03:00:00</td>\n",
       "      <td>61868.81</td>\n",
       "      <td>61920.00</td>\n",
       "      <td>61888.18</td>\n",
       "      <td>61919.98</td>\n",
       "      <td>2.946079</td>\n",
       "    </tr>\n",
       "    <tr>\n",
       "      <th>1</th>\n",
       "      <td>2021-10-30 02:59:00</td>\n",
       "      <td>61882.74</td>\n",
       "      <td>61912.67</td>\n",
       "      <td>61903.16</td>\n",
       "      <td>61882.74</td>\n",
       "      <td>2.942357</td>\n",
       "    </tr>\n",
       "    <tr>\n",
       "      <th>2</th>\n",
       "      <td>2021-10-30 02:58:00</td>\n",
       "      <td>61854.82</td>\n",
       "      <td>61907.96</td>\n",
       "      <td>61854.82</td>\n",
       "      <td>61903.15</td>\n",
       "      <td>3.047848</td>\n",
       "    </tr>\n",
       "    <tr>\n",
       "      <th>3</th>\n",
       "      <td>2021-10-30 02:57:00</td>\n",
       "      <td>61848.04</td>\n",
       "      <td>61883.02</td>\n",
       "      <td>61883.01</td>\n",
       "      <td>61851.39</td>\n",
       "      <td>3.381070</td>\n",
       "    </tr>\n",
       "    <tr>\n",
       "      <th>4</th>\n",
       "      <td>2021-10-30 02:56:00</td>\n",
       "      <td>61879.33</td>\n",
       "      <td>61925.42</td>\n",
       "      <td>61907.47</td>\n",
       "      <td>61882.28</td>\n",
       "      <td>5.663128</td>\n",
       "    </tr>\n",
       "  </tbody>\n",
       "</table>\n",
       "</div>"
      ],
      "text/plain": [
       "                  time       low      high      open     close    volume\n",
       "0  2021-10-30 03:00:00  61868.81  61920.00  61888.18  61919.98  2.946079\n",
       "1  2021-10-30 02:59:00  61882.74  61912.67  61903.16  61882.74  2.942357\n",
       "2  2021-10-30 02:58:00  61854.82  61907.96  61854.82  61903.15  3.047848\n",
       "3  2021-10-30 02:57:00  61848.04  61883.02  61883.01  61851.39  3.381070\n",
       "4  2021-10-30 02:56:00  61879.33  61925.42  61907.47  61882.28  5.663128"
      ]
     },
     "execution_count": 2,
     "metadata": {},
     "output_type": "execute_result"
    }
   ],
   "source": [
    "btc= pd.read_csv(\"bitcoin.csv\")\n",
    "btc.head()"
   ]
  },
  {
   "cell_type": "code",
   "execution_count": 3,
   "id": "4e59b85c",
   "metadata": {},
   "outputs": [
    {
     "data": {
      "text/plain": [
       "(3113276, 6)"
      ]
     },
     "execution_count": 3,
     "metadata": {},
     "output_type": "execute_result"
    }
   ],
   "source": [
    "btc.shape"
   ]
  },
  {
   "cell_type": "code",
   "execution_count": 4,
   "id": "303239b1",
   "metadata": {},
   "outputs": [
    {
     "data": {
      "text/html": [
       "<div>\n",
       "<style scoped>\n",
       "    .dataframe tbody tr th:only-of-type {\n",
       "        vertical-align: middle;\n",
       "    }\n",
       "\n",
       "    .dataframe tbody tr th {\n",
       "        vertical-align: top;\n",
       "    }\n",
       "\n",
       "    .dataframe thead th {\n",
       "        text-align: right;\n",
       "    }\n",
       "</style>\n",
       "<table border=\"1\" class=\"dataframe\">\n",
       "  <thead>\n",
       "    <tr style=\"text-align: right;\">\n",
       "      <th></th>\n",
       "      <th>low</th>\n",
       "      <th>high</th>\n",
       "      <th>open</th>\n",
       "      <th>close</th>\n",
       "      <th>volume</th>\n",
       "    </tr>\n",
       "  </thead>\n",
       "  <tbody>\n",
       "    <tr>\n",
       "      <th>count</th>\n",
       "      <td>3.113276e+06</td>\n",
       "      <td>3.113276e+06</td>\n",
       "      <td>3.113276e+06</td>\n",
       "      <td>3.113276e+06</td>\n",
       "      <td>3.113276e+06</td>\n",
       "    </tr>\n",
       "    <tr>\n",
       "      <th>mean</th>\n",
       "      <td>1.152825e+04</td>\n",
       "      <td>1.154230e+04</td>\n",
       "      <td>1.153537e+04</td>\n",
       "      <td>1.153541e+04</td>\n",
       "      <td>9.689568e+00</td>\n",
       "    </tr>\n",
       "    <tr>\n",
       "      <th>std</th>\n",
       "      <td>1.490292e+04</td>\n",
       "      <td>1.492446e+04</td>\n",
       "      <td>1.491374e+04</td>\n",
       "      <td>1.491379e+04</td>\n",
       "      <td>2.239875e+01</td>\n",
       "    </tr>\n",
       "    <tr>\n",
       "      <th>min</th>\n",
       "      <td>6.000000e-02</td>\n",
       "      <td>6.000000e-02</td>\n",
       "      <td>6.000000e-02</td>\n",
       "      <td>6.000000e-02</td>\n",
       "      <td>1.000000e-08</td>\n",
       "    </tr>\n",
       "    <tr>\n",
       "      <th>25%</th>\n",
       "      <td>1.849557e+03</td>\n",
       "      <td>1.850000e+03</td>\n",
       "      <td>1.849925e+03</td>\n",
       "      <td>1.849980e+03</td>\n",
       "      <td>1.331197e+00</td>\n",
       "    </tr>\n",
       "    <tr>\n",
       "      <th>50%</th>\n",
       "      <td>7.099990e+03</td>\n",
       "      <td>7.105000e+03</td>\n",
       "      <td>7.102045e+03</td>\n",
       "      <td>7.102060e+03</td>\n",
       "      <td>3.707298e+00</td>\n",
       "    </tr>\n",
       "    <tr>\n",
       "      <th>75%</th>\n",
       "      <td>1.067558e+04</td>\n",
       "      <td>1.068550e+04</td>\n",
       "      <td>1.068027e+04</td>\n",
       "      <td>1.068040e+04</td>\n",
       "      <td>9.761575e+00</td>\n",
       "    </tr>\n",
       "    <tr>\n",
       "      <th>max</th>\n",
       "      <td>6.690000e+04</td>\n",
       "      <td>6.699900e+04</td>\n",
       "      <td>6.694122e+04</td>\n",
       "      <td>6.694122e+04</td>\n",
       "      <td>1.549613e+03</td>\n",
       "    </tr>\n",
       "  </tbody>\n",
       "</table>\n",
       "</div>"
      ],
      "text/plain": [
       "                low          high          open         close        volume\n",
       "count  3.113276e+06  3.113276e+06  3.113276e+06  3.113276e+06  3.113276e+06\n",
       "mean   1.152825e+04  1.154230e+04  1.153537e+04  1.153541e+04  9.689568e+00\n",
       "std    1.490292e+04  1.492446e+04  1.491374e+04  1.491379e+04  2.239875e+01\n",
       "min    6.000000e-02  6.000000e-02  6.000000e-02  6.000000e-02  1.000000e-08\n",
       "25%    1.849557e+03  1.850000e+03  1.849925e+03  1.849980e+03  1.331197e+00\n",
       "50%    7.099990e+03  7.105000e+03  7.102045e+03  7.102060e+03  3.707298e+00\n",
       "75%    1.067558e+04  1.068550e+04  1.068027e+04  1.068040e+04  9.761575e+00\n",
       "max    6.690000e+04  6.699900e+04  6.694122e+04  6.694122e+04  1.549613e+03"
      ]
     },
     "execution_count": 4,
     "metadata": {},
     "output_type": "execute_result"
    }
   ],
   "source": [
    "btc.describe()"
   ]
  },
  {
   "cell_type": "code",
   "execution_count": 5,
   "id": "e9673c9f",
   "metadata": {},
   "outputs": [
    {
     "name": "stdout",
     "output_type": "stream",
     "text": [
      "Null Values: 0\n",
      "If any NA values: False\n"
     ]
    }
   ],
   "source": [
    "print('Null Values:',btc.isnull().values.sum())\n",
    "print('If any NA values:', btc.isnull().values.any())"
   ]
  },
  {
   "cell_type": "code",
   "execution_count": 6,
   "id": "0aba3a71",
   "metadata": {},
   "outputs": [
    {
     "data": {
      "text/plain": [
       "<AxesSubplot:title={'center':'Price'}, xlabel='time'>"
      ]
     },
     "execution_count": 6,
     "metadata": {},
     "output_type": "execute_result"
    },
    {
     "data": {
      "image/png": "[encoded data removed]",
      "text/plain": [
       "<Figure size 1728x504 with 1 Axes>"
      ]
     },
     "metadata": {
      "needs_background": "light"
     },
     "output_type": "display_data"
    }
   ],
   "source": [
    "btc.set_index(\"time\").close.plot(figsize=(24,7), title=\"Price\")"
   ]
  },
  {
   "cell_type": "markdown",
   "id": "dbda2d19",
   "metadata": {},
   "source": [
    "# Data Preprocessing"
   ]
  },
  {
   "cell_type": "code",
   "execution_count": 7,
   "id": "79ce0ba3",
   "metadata": {},
   "outputs": [],
   "source": [
    "num_shape = 2000\n",
    "\n",
    "train = btc.iloc[:num_shape, 1:2].values\n",
    "test = btc.iloc[num_shape:, 1:2].values"
   ]
  },
  {
   "cell_type": "markdown",
   "id": "7348a1d4",
   "metadata": {},
   "source": [
    "# Scaling our features using normalization. "
   ]
  },
  {
   "cell_type": "code",
   "execution_count": 8,
   "id": "44caab59",
   "metadata": {},
   "outputs": [],
   "source": [
    "sc = MinMaxScaler(feature_range = (0, 1))\n",
    "train_scaled = sc.fit_transform(train)"
   ]
  },
  {
   "cell_type": "markdown",
   "id": "09de98f3",
   "metadata": {},
   "source": [
    "# Now we take one row and cut it with a window of 60 elements"
   ]
  },
  {
   "cell_type": "code",
   "execution_count": 9,
   "id": "2a7d858e",
   "metadata": {},
   "outputs": [],
   "source": [
    "X_train = []\n",
    "\n",
    "#Price on next day\n",
    "y_train = []\n",
    "\n",
    "window = 60\n",
    "\n",
    "for i in range(window, num_shape):\n",
    "    X_train_ = np.reshape(train_scaled[i-window:i, 0], (window, 1))\n",
    "    X_train.append(X_train_)\n",
    "    y_train.append(train_scaled[i, 0])\n",
    "X_train = np.stack(X_train)\n",
    "y_train = np.stack(y_train)"
   ]
  },
  {
   "cell_type": "code",
   "execution_count": 10,
   "id": "7d549c3b",
   "metadata": {},
   "outputs": [
    {
     "name": "stdout",
     "output_type": "stream",
     "text": [
      "Model: \"sequential\"\n",
      "_________________________________________________________________\n",
      " Layer (type)                Output Shape              Param #   \n",
      "=================================================================\n",
      " lstm (LSTM)                 (None, 60, 50)            10400     \n",
      "                                                                 \n",
      " dropout (Dropout)           (None, 60, 50)            0         \n",
      "                                                                 \n",
      " lstm_1 (LSTM)               (None, 60, 50)            20200     \n",
      "                                                                 \n",
      " dropout_1 (Dropout)         (None, 60, 50)            0         \n",
      "                                                                 \n",
      " lstm_2 (LSTM)               (None, 60, 50)            20200     \n",
      "                                                                 \n",
      " dropout_2 (Dropout)         (None, 60, 50)            0         \n",
      "                                                                 \n",
      " lstm_3 (LSTM)               (None, 50)                20200     \n",
      "                                                                 \n",
      " dropout_3 (Dropout)         (None, 50)                0         \n",
      "                                                                 \n",
      " dense (Dense)               (None, 1)                 51        \n",
      "                                                                 \n",
      "=================================================================\n",
      "Total params: 71,051\n",
      "Trainable params: 71,051\n",
      "Non-trainable params: 0\n",
      "_________________________________________________________________\n"
     ]
    }
   ],
   "source": [
    "# Initializing the Recurrent Neural Network\n",
    "model = Sequential()\n",
    "#Adding the first LSTM layer with a sigmoid activation function and some Dropout regularization\n",
    "#Units - dimensionality of the output space\n",
    "\n",
    "model.add(LSTM(units = 50, return_sequences = True, input_shape = (X_train.shape[1], 1)))\n",
    "model.add(Dropout(0.2))\n",
    "\n",
    "model.add(LSTM(units = 50, return_sequences = True))\n",
    "model.add(Dropout(0.2))\n",
    "\n",
    "model.add(LSTM(units = 50, return_sequences = True))\n",
    "model.add(Dropout(0.2))\n",
    "\n",
    "model.add(LSTM(units = 50))\n",
    "model.add(Dropout(0.2))\n",
    "\n",
    "# Adding the output layer\n",
    "model.add(Dense(units = 1))\n",
    "model.summary()"
   ]
  },
  {
   "cell_type": "code",
   "execution_count": 11,
   "id": "6b1f3a11",
   "metadata": {},
   "outputs": [],
   "source": [
    "model.compile(optimizer = 'adam', loss = 'mean_squared_error')\n"
   ]
  },
  {
   "cell_type": "code",
   "execution_count": 12,
   "id": "adc5c028",
   "metadata": {},
   "outputs": [
    {
     "name": "stdout",
     "output_type": "stream",
     "text": [
      "Epoch 1/100\n",
      "16/16 [==============================] - 25s 405ms/step - loss: 0.1442\n",
      "Epoch 2/100\n",
      "16/16 [==============================] - 6s 397ms/step - loss: 0.0185\n",
      "Epoch 3/100\n",
      "16/16 [==============================] - 6s 401ms/step - loss: 0.0141\n",
      "Epoch 4/100\n",
      "16/16 [==============================] - 7s 415ms/step - loss: 0.0119\n",
      "Epoch 5/100\n",
      "16/16 [==============================] - 6s 380ms/step - loss: 0.0096\n",
      "Epoch 6/100\n",
      "16/16 [==============================] - 6s 398ms/step - loss: 0.0083\n",
      "Epoch 7/100\n",
      "16/16 [==============================] - 6s 392ms/step - loss: 0.0085\n",
      "Epoch 8/100\n",
      "16/16 [==============================] - 6s 390ms/step - loss: 0.0076\n",
      "Epoch 9/100\n",
      "16/16 [==============================] - 7s 417ms/step - loss: 0.0083\n",
      "Epoch 10/100\n",
      "16/16 [==============================] - 6s 396ms/step - loss: 0.0077\n",
      "Epoch 11/100\n",
      "16/16 [==============================] - 7s 422ms/step - loss: 0.0071\n",
      "Epoch 12/100\n",
      "16/16 [==============================] - 6s 404ms/step - loss: 0.0068\n",
      "Epoch 13/100\n",
      "16/16 [==============================] - 6s 373ms/step - loss: 0.0070\n",
      "Epoch 14/100\n",
      "16/16 [==============================] - 6s 373ms/step - loss: 0.0071\n",
      "Epoch 15/100\n",
      "16/16 [==============================] - 6s 363ms/step - loss: 0.0061\n",
      "Epoch 16/100\n",
      "16/16 [==============================] - 6s 356ms/step - loss: 0.0065\n",
      "Epoch 17/100\n",
      "16/16 [==============================] - 6s 381ms/step - loss: 0.0066\n",
      "Epoch 18/100\n",
      "16/16 [==============================] - 6s 370ms/step - loss: 0.0064\n",
      "Epoch 19/100\n",
      "16/16 [==============================] - 6s 354ms/step - loss: 0.0060\n",
      "Epoch 20/100\n",
      "16/16 [==============================] - 7s 426ms/step - loss: 0.0062\n",
      "Epoch 21/100\n",
      "16/16 [==============================] - 8s 487ms/step - loss: 0.0067\n",
      "Epoch 22/100\n",
      "16/16 [==============================] - 8s 469ms/step - loss: 0.0061\n",
      "Epoch 23/100\n",
      "16/16 [==============================] - 7s 406ms/step - loss: 0.0058\n",
      "Epoch 24/100\n",
      "16/16 [==============================] - 7s 405ms/step - loss: 0.0059\n",
      "Epoch 25/100\n",
      "16/16 [==============================] - 6s 407ms/step - loss: 0.0061\n",
      "Epoch 26/100\n",
      "16/16 [==============================] - 6s 365ms/step - loss: 0.0064\n",
      "Epoch 27/100\n",
      "16/16 [==============================] - 6s 380ms/step - loss: 0.0062\n",
      "Epoch 28/100\n",
      "16/16 [==============================] - 7s 427ms/step - loss: 0.0060\n",
      "Epoch 29/100\n",
      "16/16 [==============================] - 7s 453ms/step - loss: 0.0060\n",
      "Epoch 30/100\n",
      "16/16 [==============================] - 7s 413ms/step - loss: 0.0055\n",
      "Epoch 31/100\n",
      "16/16 [==============================] - 6s 386ms/step - loss: 0.0052\n",
      "Epoch 32/100\n",
      "16/16 [==============================] - 7s 444ms/step - loss: 0.0060\n",
      "Epoch 33/100\n",
      "16/16 [==============================] - 7s 413ms/step - loss: 0.0058\n",
      "Epoch 34/100\n",
      "16/16 [==============================] - 7s 411ms/step - loss: 0.0057\n",
      "Epoch 35/100\n",
      "16/16 [==============================] - 6s 396ms/step - loss: 0.0056\n",
      "Epoch 36/100\n",
      "16/16 [==============================] - 6s 386ms/step - loss: 0.0052\n",
      "Epoch 37/100\n",
      "16/16 [==============================] - 7s 415ms/step - loss: 0.0051\n",
      "Epoch 38/100\n",
      "16/16 [==============================] - 7s 449ms/step - loss: 0.0053\n",
      "Epoch 39/100\n",
      "16/16 [==============================] - 7s 405ms/step - loss: 0.0050\n",
      "Epoch 40/100\n",
      "16/16 [==============================] - 7s 438ms/step - loss: 0.0048\n",
      "Epoch 41/100\n",
      "16/16 [==============================] - 6s 382ms/step - loss: 0.0055\n",
      "Epoch 42/100\n",
      "16/16 [==============================] - 6s 364ms/step - loss: 0.0049\n",
      "Epoch 43/100\n",
      "16/16 [==============================] - 6s 364ms/step - loss: 0.0048\n",
      "Epoch 44/100\n",
      "16/16 [==============================] - 6s 360ms/step - loss: 0.0047\n",
      "Epoch 45/100\n",
      "16/16 [==============================] - 6s 360ms/step - loss: 0.0047\n",
      "Epoch 46/100\n",
      "16/16 [==============================] - 6s 364ms/step - loss: 0.0047\n",
      "Epoch 47/100\n",
      "16/16 [==============================] - 6s 368ms/step - loss: 0.0048\n",
      "Epoch 48/100\n",
      "16/16 [==============================] - 6s 364ms/step - loss: 0.0052\n",
      "Epoch 49/100\n",
      "16/16 [==============================] - 6s 359ms/step - loss: 0.0045\n",
      "Epoch 50/100\n",
      "16/16 [==============================] - 6s 368ms/step - loss: 0.0045\n",
      "Epoch 51/100\n",
      "16/16 [==============================] - 6s 365ms/step - loss: 0.0048\n",
      "Epoch 52/100\n",
      "16/16 [==============================] - 6s 352ms/step - loss: 0.0048\n",
      "Epoch 53/100\n",
      "16/16 [==============================] - 6s 360ms/step - loss: 0.0044\n",
      "Epoch 54/100\n",
      "16/16 [==============================] - 6s 366ms/step - loss: 0.0043\n",
      "Epoch 55/100\n",
      "16/16 [==============================] - 6s 365ms/step - loss: 0.0044\n",
      "Epoch 56/100\n",
      "16/16 [==============================] - 6s 356ms/step - loss: 0.0042\n",
      "Epoch 57/100\n",
      "16/16 [==============================] - 6s 357ms/step - loss: 0.0045\n",
      "Epoch 58/100\n",
      "16/16 [==============================] - 6s 369ms/step - loss: 0.0041\n",
      "Epoch 59/100\n",
      "16/16 [==============================] - 6s 369ms/step - loss: 0.0040\n",
      "Epoch 60/100\n",
      "16/16 [==============================] - 6s 355ms/step - loss: 0.0043\n",
      "Epoch 61/100\n",
      "16/16 [==============================] - 6s 355ms/step - loss: 0.0045\n",
      "Epoch 62/100\n",
      "16/16 [==============================] - 6s 371ms/step - loss: 0.0054\n",
      "Epoch 63/100\n",
      "16/16 [==============================] - 6s 358ms/step - loss: 0.0048\n",
      "Epoch 64/100\n",
      "16/16 [==============================] - 6s 358ms/step - loss: 0.0042\n",
      "Epoch 65/100\n",
      "16/16 [==============================] - 6s 354ms/step - loss: 0.0042\n",
      "Epoch 66/100\n",
      "16/16 [==============================] - 6s 367ms/step - loss: 0.0042\n",
      "Epoch 67/100\n",
      "16/16 [==============================] - 6s 363ms/step - loss: 0.0041\n",
      "Epoch 68/100\n",
      "16/16 [==============================] - 6s 361ms/step - loss: 0.0039\n",
      "Epoch 69/100\n",
      "16/16 [==============================] - 6s 367ms/step - loss: 0.0046\n",
      "Epoch 70/100\n",
      "16/16 [==============================] - 6s 364ms/step - loss: 0.0040\n",
      "Epoch 71/100\n",
      "16/16 [==============================] - 6s 358ms/step - loss: 0.0040\n",
      "Epoch 72/100\n",
      "16/16 [==============================] - 6s 364ms/step - loss: 0.0038\n",
      "Epoch 73/100\n",
      "16/16 [==============================] - 6s 368ms/step - loss: 0.0042\n",
      "Epoch 74/100\n",
      "16/16 [==============================] - 6s 365ms/step - loss: 0.0040\n",
      "Epoch 75/100\n",
      "16/16 [==============================] - 6s 354ms/step - loss: 0.0041\n",
      "Epoch 76/100\n",
      "16/16 [==============================] - 6s 359ms/step - loss: 0.0037\n",
      "Epoch 77/100\n",
      "16/16 [==============================] - 6s 363ms/step - loss: 0.0036\n",
      "Epoch 78/100\n",
      "16/16 [==============================] - 6s 367ms/step - loss: 0.0037\n",
      "Epoch 79/100\n",
      "16/16 [==============================] - 6s 359ms/step - loss: 0.0039\n",
      "Epoch 80/100\n",
      "16/16 [==============================] - 6s 354ms/step - loss: 0.0037\n",
      "Epoch 81/100\n",
      "16/16 [==============================] - 6s 363ms/step - loss: 0.0037\n",
      "Epoch 82/100\n",
      "16/16 [==============================] - 6s 363ms/step - loss: 0.0038\n",
      "Epoch 83/100\n",
      "16/16 [==============================] - 6s 351ms/step - loss: 0.0037\n",
      "Epoch 84/100\n",
      "16/16 [==============================] - 6s 362ms/step - loss: 0.0035\n",
      "Epoch 85/100\n",
      "16/16 [==============================] - 6s 366ms/step - loss: 0.0036\n",
      "Epoch 86/100\n",
      "16/16 [==============================] - 6s 352ms/step - loss: 0.0035\n",
      "Epoch 87/100\n",
      "16/16 [==============================] - 6s 357ms/step - loss: 0.0037\n",
      "Epoch 88/100\n",
      "16/16 [==============================] - 6s 369ms/step - loss: 0.0034\n",
      "Epoch 89/100\n",
      "16/16 [==============================] - 6s 366ms/step - loss: 0.0036\n",
      "Epoch 90/100\n",
      "16/16 [==============================] - 6s 358ms/step - loss: 0.0036\n",
      "Epoch 91/100\n",
      "16/16 [==============================] - 6s 358ms/step - loss: 0.0039\n",
      "Epoch 92/100\n",
      "16/16 [==============================] - 6s 371ms/step - loss: 0.0035\n",
      "Epoch 93/100\n",
      "16/16 [==============================] - 6s 365ms/step - loss: 0.0035\n",
      "Epoch 94/100\n",
      "16/16 [==============================] - 6s 355ms/step - loss: 0.0037\n",
      "Epoch 95/100\n",
      "16/16 [==============================] - 6s 359ms/step - loss: 0.0033\n",
      "Epoch 96/100\n",
      "16/16 [==============================] - 6s 368ms/step - loss: 0.0033\n",
      "Epoch 97/100\n",
      "16/16 [==============================] - 6s 372ms/step - loss: 0.0035\n",
      "Epoch 98/100\n",
      "16/16 [==============================] - 6s 391ms/step - loss: 0.0034\n",
      "Epoch 99/100\n"
     ]
    },
    {
     "name": "stdout",
     "output_type": "stream",
     "text": [
      "16/16 [==============================] - 6s 378ms/step - loss: 0.0034\n",
      "Epoch 100/100\n",
      "16/16 [==============================] - 6s 374ms/step - loss: 0.0033\n"
     ]
    },
    {
     "data": {
      "text/plain": [
       "<keras.callbacks.History at 0x24502208760>"
      ]
     },
     "execution_count": 12,
     "metadata": {},
     "output_type": "execute_result"
    }
   ],
   "source": [
    "model.fit(X_train, y_train, epochs = 100, batch_size = 128)"
   ]
  },
  {
   "cell_type": "code",
   "execution_count": 16,
   "id": "25906f74",
   "metadata": {},
   "outputs": [],
   "source": [
    "df_volume = np.vstack((train, test))\n",
    "\n",
    "inputs = df_volume[df_volume.shape[0] - test.shape[0] - window:]\n",
    "inputs = inputs.reshape(-1,1)\n",
    "inputs = sc.transform(inputs)\n",
    "\n",
    "num_2 = df_volume.shape[0] - num_shape + window\n",
    "\n",
    "X_test = []\n",
    "\n",
    "for i in range(window, num_2):\n",
    "    X_test_ = np.reshape(inputs[i-window:i, 0], (window, 1))\n",
    "    X_test.append(X_test_)\n",
    "    \n",
    "X_test = np.stack(X_test)"
   ]
  },
  {
   "cell_type": "code",
   "execution_count": 17,
   "id": "c7c6b7a6",
   "metadata": {
    "scrolled": true
   },
   "outputs": [
    {
     "data": {
      "text/plain": [
       "array([[[  0.06602156],\n",
       "        [  0.        ],\n",
       "        [  0.02915768],\n",
       "        ...,\n",
       "        [  0.66578541],\n",
       "        [  0.66549738],\n",
       "        [  0.65056948]],\n",
       "\n",
       "       [[  0.        ],\n",
       "        [  0.02915768],\n",
       "        [  0.61705131],\n",
       "        ...,\n",
       "        [  0.66549738],\n",
       "        [  0.65056948],\n",
       "        [  0.64565963]],\n",
       "\n",
       "       [[  0.02915768],\n",
       "        [  0.61705131],\n",
       "        [  0.62034934],\n",
       "        ...,\n",
       "        [  0.65056948],\n",
       "        [  0.64565963],\n",
       "        [  0.6394775 ]],\n",
       "\n",
       "       ...,\n",
       "\n",
       "       [[-10.94183343],\n",
       "        [-10.94183343],\n",
       "        [-10.94186013],\n",
       "        ...,\n",
       "        [-10.94258688],\n",
       "        [-10.94258116],\n",
       "        [-10.94257925]],\n",
       "\n",
       "       [[-10.94183343],\n",
       "        [-10.94186013],\n",
       "        [-10.94187348],\n",
       "        ...,\n",
       "        [-10.94258116],\n",
       "        [-10.94257925],\n",
       "        [-10.94261549]],\n",
       "\n",
       "       [[-10.94186013],\n",
       "        [-10.94187348],\n",
       "        [-10.94187348],\n",
       "        ...,\n",
       "        [-10.94257925],\n",
       "        [-10.94261549],\n",
       "        [-10.94257734]]])"
      ]
     },
     "execution_count": 17,
     "metadata": {},
     "output_type": "execute_result"
    }
   ],
   "source": [
    "X_test"
   ]
  },
  {
   "cell_type": "code",
   "execution_count": null,
   "id": "46ac5a57",
   "metadata": {},
   "outputs": [
    {
     "name": "stdout",
     "output_type": "stream",
     "text": [
      " 3301/97228 [>.............................] - ETA: 1:32:38"
     ]
    }
   ],
   "source": [
    "predict = model.predict(X_test)\n",
    "predict = sc.inverse_transform(predict)"
   ]
  },
  {
   "cell_type": "code",
   "execution_count": null,
   "id": "e664f561",
   "metadata": {},
   "outputs": [],
   "source": [
    "diff = predict - test\n",
    "print(\"MSE:\", np.mean(diff**2))\n",
    "print(\"MAE:\", np.mean(abs(diff)))\n",
    "print(\"RMSE:\", np.sqrt(np.mean(diff**2)))"
   ]
  },
  {
   "cell_type": "code",
   "execution_count": null,
   "id": "d8b2db0f",
   "metadata": {},
   "outputs": [],
   "source": [
    "plt.figure(figsize=(20,7))\n",
    "plt.plot(btc['time'].values[1700:], df_volume[1700:], color = 'red', label = 'Real Bitcoin Price')\n",
    "plt.plot(btc['time'][-predict.shape[0]:].values, predict, color = 'blue', label = 'Predicted Bitcoin Price')\n",
    "plt.xticks(np.arange(100,btc[1800:].shape[0],20))\n",
    "plt.title('Crypto Price Prediction')\n",
    "plt.xlabel('Date')\n",
    "plt.ylabel('Price ($)')\n",
    "plt.legend()\n",
    "plt.show()"
   ]
  },
  {
   "cell_type": "markdown",
   "id": "248b8998",
   "metadata": {},
   "source": [
    "# 10-day prediction"
   ]
  },
  {
   "cell_type": "code",
   "execution_count": null,
   "id": "f50fa373",
   "metadata": {},
   "outputs": [],
   "source": [
    "pred_ = predict[-1].copy()\n",
    "prediction_full = []\n",
    "window = 60\n",
    "df_copy = btc.iloc[:, 1:2][1:].values\n",
    "\n",
    "for j in range(10):\n",
    "    df_ = np.vstack((df_copy, pred_))\n",
    "    train_ = df_[:num_shape]\n",
    "    test_ = df_[num_shape:]\n",
    "    \n",
    "    df_volume_ = np.vstack((train_, test_))\n",
    "\n",
    "    inputs_ = df_volume_[df_volume_.shape[0] - test_.shape[0] - window:]\n",
    "    inputs_ = inputs_.reshape(-1,1)\n",
    "    inputs_ = sc.transform(inputs_)\n",
    "\n",
    "    X_test_2 = []\n",
    "\n",
    "    for k in range(window, num_2):\n",
    "        X_test_3 = np.reshape(inputs_[k-window:k, 0], (window, 1))\n",
    "        X_test_2.append(X_test_3)\n",
    "\n",
    "    X_test_ = np.stack(X_test_2)\n",
    "    predict_ = model.predict(X_test_)\n",
    "    pred_ = sc.inverse_transform(predict_)\n",
    "    prediction_full.append(pred_[-1][0])\n",
    "    df_copy = df_[j:]"
   ]
  },
  {
   "cell_type": "code",
   "execution_count": null,
   "id": "960285d6",
   "metadata": {},
   "outputs": [],
   "source": [
    "prediction_full_new = np.vstack((predict, np.array(prediction_full).reshape(-1,1)))"
   ]
  },
  {
   "cell_type": "code",
   "execution_count": null,
   "id": "c415589f",
   "metadata": {},
   "outputs": [],
   "source": [
    "df_date = btc[['time']]\n",
    "\n",
    "for h in range(10):\n",
    "    df_date_add = pd.to_datetime(df_date['Date'].iloc[-1]) + pd.DateOffset(days=1)\n",
    "    df_date_add = pd.DataFrame([df_date_add.strftime(\"%Y-%m-%d\")], columns=['Date'])\n",
    "    df_date = df_date.append(df_date_add)\n",
    "df_date = df_date.reset_index(drop=True)"
   ]
  },
  {
   "cell_type": "code",
   "execution_count": null,
   "id": "e6f2fc27",
   "metadata": {},
   "outputs": [],
   "source": [
    "plt.figure(figsize=(20,7))\n",
    "plt.plot(btc['time'].values[1700:], df_volume[1700:], color = 'red', label = 'Real Bitcoin Price')\n",
    "plt.plot(df_date['time'][-prediction_full_new.shape[0]:].values, prediction_full_new, color = 'blue', label = 'Predicted Bitcoin Price')\n",
    "plt.xticks(np.arange(100,btc[1700:].shape[0],200))\n",
    "plt.title('Bitcoin Price Prediction')\n",
    "plt.xlabel('Date')\n",
    "plt.ylabel('Price ($)')\n",
    "plt.legend()\n",
    "plt.show()"
   ]
  },
  {
   "cell_type": "code",
   "execution_count": null,
   "id": "495b6777",
   "metadata": {},
   "outputs": [],
   "source": []
  }
 ],
 "metadata": {
  "kernelspec": {
   "display_name": "Python 3 (ipykernel)",
   "language": "python",
   "name": "python3"
  },
  "language_info": {
   "codemirror_mode": {
    "name": "ipython",
    "version": 3
   },
   "file_extension": ".py",
   "mimetype": "text/x-python",
   "name": "python",
   "nbconvert_exporter": "python",
   "pygments_lexer": "ipython3",
   "version": "3.9.12"
  }
 },
 "nbformat": 4,
 "nbformat_minor": 5
}
